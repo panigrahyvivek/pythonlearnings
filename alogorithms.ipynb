{
 "cells": [
  {
   "cell_type": "code",
   "execution_count": 34,
   "metadata": {},
   "outputs": [
    {
     "name": "stdout",
     "output_type": "stream",
     "text": [
      "0.49950003301149365\n",
      "0.5043464631403228\n"
     ]
    }
   ],
   "source": [
    "#BinApprox Alogirithm\n",
    "import numpy as np\n",
    "def binapprox(list, nbins):\n",
    "    mean = np.mean(list)\n",
    "    std = np.std(list)\n",
    "    #print(mean,std)\n",
    "    (minvalue, maxvalue) = (mean-std,mean+std)\n",
    "    binWidth = (maxvalue - minvalue)/nbins\n",
    "    #print(range) \n",
    "    \n",
    "    #Initialize Bins\n",
    "    left_bin = 0\n",
    "    bins = np.zeros(nbins) \n",
    "    \n",
    "    for value in list:\n",
    "        if value < minvalue:\n",
    "            left_bin+=1\n",
    "        elif value < maxvalue:\n",
    "            bin = int((value-minvalue)/binWidth)\n",
    "            bins[bin] += 1\n",
    "    \n",
    "    #print(bins)\n",
    "    #print(bins[1])\n",
    "    \n",
    "    \n",
    "    count = left_bin\n",
    "    N = len(list)\n",
    "    mid = (N + 1)/2\n",
    "    \n",
    "    \n",
    "    for b, bincount in enumerate(bins):\n",
    "        count += bincount\n",
    "        if count >= mid:\n",
    "            break\n",
    "    #print(b)\n",
    "    return (minvalue + binWidth*(b+0.5))\n",
    "\n",
    "np.random.seed(0) \n",
    "print(binapprox(np.random.rand(10**5),5))\n",
    "print(np.median(np.random.rand(10**5)))"
   ]
  }
 ],
 "metadata": {
  "kernelspec": {
   "display_name": "Python 3",
   "language": "python",
   "name": "python3"
  },
  "language_info": {
   "codemirror_mode": {
    "name": "ipython",
    "version": 3
   },
   "file_extension": ".py",
   "mimetype": "text/x-python",
   "name": "python",
   "nbconvert_exporter": "python",
   "pygments_lexer": "ipython3",
   "version": "3.6.4"
  }
 },
 "nbformat": 4,
 "nbformat_minor": 2
}
