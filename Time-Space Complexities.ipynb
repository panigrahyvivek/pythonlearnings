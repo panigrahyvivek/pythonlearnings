{
 "cells": [
  {
   "cell_type": "code",
   "execution_count": 38,
   "metadata": {},
   "outputs": [],
   "source": [
    "import time\n",
    "import numpy as np\n",
    "import statistics\n",
    "import sys"
   ]
  },
  {
   "cell_type": "code",
   "execution_count": 27,
   "metadata": {},
   "outputs": [
    {
     "name": "stdout",
     "output_type": "stream",
     "text": [
      "hello\n",
      "0.0003117952555555803\n"
     ]
    }
   ],
   "source": [
    "start = time.perf_counter()\n",
    "print('hello')\n",
    "end = time.perf_counter() - start\n",
    "print(end)"
   ]
  },
  {
   "cell_type": "code",
   "execution_count": 30,
   "metadata": {},
   "outputs": [
    {
     "name": "stdout",
     "output_type": "stream",
     "text": [
      "That took 1.66 seconds.\n"
     ]
    }
   ],
   "source": [
    "n = 10**7\n",
    "data = np.random.randn(n)\n",
    "\n",
    "start = time.perf_counter()\n",
    "mean = sum(data)/len(data)\n",
    "seconds = time.perf_counter() - start\n",
    "\n",
    "print('That took {:.2f} seconds.'.format(seconds))"
   ]
  },
  {
   "cell_type": "code",
   "execution_count": 32,
   "metadata": {},
   "outputs": [
    {
     "name": "stdout",
     "output_type": "stream",
     "text": [
      "That took 0.01 seconds.\n"
     ]
    }
   ],
   "source": [
    "n = 10**7\n",
    "data = np.random.randn(n)\n",
    "\n",
    "start = time.perf_counter()\n",
    "mean = np.mean(data)\n",
    "seconds = time.perf_counter() - start\n",
    "\n",
    "print('That took {:.2f} seconds.'.format(seconds))"
   ]
  },
  {
   "cell_type": "code",
   "execution_count": 36,
   "metadata": {},
   "outputs": [
    {
     "name": "stdout",
     "output_type": "stream",
     "text": [
      "0.188546s for statistics.mean\n",
      "0.000079s for np.mean\n"
     ]
    }
   ],
   "source": [
    "def time_stat(func, size, ntrials):\n",
    "  # the time to generate the random array should not be included\n",
    "  seconds=[]\n",
    "  \n",
    "  for i in range(0,ntrials):\n",
    "    data = np.random.rand(size)\n",
    "    start = time.perf_counter()\n",
    "    res = func(data)\n",
    "    seconds.append(time.perf_counter() - start)\n",
    "\n",
    "  return func(seconds)\n",
    "\n",
    "print('{:.6f}s for statistics.mean'.format(time_stat(statistics.mean, 10**5, 100)))\n",
    "print('{:.6f}s for np.mean'.format(time_stat(np.mean, 10**5, 100)))"
   ]
  },
  {
   "cell_type": "code",
   "execution_count": 39,
   "metadata": {},
   "outputs": [
    {
     "name": "stdout",
     "output_type": "stream",
     "text": [
      "3 28\n",
      "3.123 24\n",
      "[3, 3.123] 80\n",
      "[] 64\n"
     ]
    }
   ],
   "source": [
    "a = 3\n",
    "b = 3.123\n",
    "c = [a, b]\n",
    "d = []\n",
    "for obj in [a, b, c, d]:\n",
    "  print(obj, sys.getsizeof(obj))"
   ]
  },
  {
   "cell_type": "code",
   "execution_count": 40,
   "metadata": {},
   "outputs": [
    {
     "name": "stdout",
     "output_type": "stream",
     "text": [
      "sys: 96 np: 0\n",
      "sys: 108 np: 12\n",
      "sys: 8000096 np: 8000000\n"
     ]
    }
   ],
   "source": [
    "a = np.array([])\n",
    "b = np.array([1, 2, 3])\n",
    "c = np.zeros(10**6)\n",
    "\n",
    "for obj in [a, b, c]:\n",
    "  print('sys:', sys.getsizeof(obj), 'np:', obj.nbytes)"
   ]
  }
 ],
 "metadata": {
  "kernelspec": {
   "display_name": "Python 3",
   "language": "python",
   "name": "python3"
  },
  "language_info": {
   "codemirror_mode": {
    "name": "ipython",
    "version": 3
   },
   "file_extension": ".py",
   "mimetype": "text/x-python",
   "name": "python",
   "nbconvert_exporter": "python",
   "pygments_lexer": "ipython3",
   "version": "3.6.4"
  }
 },
 "nbformat": 4,
 "nbformat_minor": 2
}
